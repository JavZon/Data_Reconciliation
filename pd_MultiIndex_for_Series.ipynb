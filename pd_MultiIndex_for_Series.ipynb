{
  "nbformat": 4,
  "nbformat_minor": 0,
  "metadata": {
    "colab": {
      "provenance": [],
      "gpuType": "T4",
      "authorship_tag": "ABX9TyNtk3LP/rnVquHluhjUY15k",
      "include_colab_link": true
    },
    "kernelspec": {
      "name": "python3",
      "display_name": "Python 3"
    },
    "language_info": {
      "name": "python"
    },
    "accelerator": "GPU"
  },
  "cells": [
    {
      "cell_type": "markdown",
      "metadata": {
        "id": "view-in-github",
        "colab_type": "text"
      },
      "source": [
        "<a href=\"https://colab.research.google.com/github/JavZon/Data_Reconciliation/blob/main/pd_MultiIndex_for_Series.ipynb\" target=\"_parent\"><img src=\"https://colab.research.google.com/assets/colab-badge.svg\" alt=\"Open In Colab\"/></a>"
      ]
    },
    {
      "cell_type": "code",
      "execution_count": 1,
      "metadata": {
        "id": "7zIXBftYpb8W"
      },
      "outputs": [],
      "source": [
        "import pandas as pd\n",
        "import numpy as np"
      ]
    },
    {
      "cell_type": "code",
      "source": [
        "arrays = [['A', 'A', 'B', 'B'], [1, 2, 1, 2]]\n",
        "multi_index = pd.MultiIndex.from_arrays(arrays, names=('First', 'Second'))\n",
        "s = pd.Series([10, 20, 30, 40], index=multi_index)\n",
        "s"
      ],
      "metadata": {
        "colab": {
          "base_uri": "https://localhost:8080/"
        },
        "id": "3eVQ0LX4qcYO",
        "outputId": "5fda65cc-1551-453d-b621-2f6dff1c376a"
      },
      "execution_count": 2,
      "outputs": [
        {
          "output_type": "execute_result",
          "data": {
            "text/plain": [
              "First  Second\n",
              "A      1         10\n",
              "       2         20\n",
              "B      1         30\n",
              "       2         40\n",
              "dtype: int64"
            ]
          },
          "metadata": {},
          "execution_count": 2
        }
      ]
    },
    {
      "cell_type": "code",
      "source": [
        "s.index.names=['as','bs']\n",
        "s\n"
      ],
      "metadata": {
        "colab": {
          "base_uri": "https://localhost:8080/"
        },
        "id": "aYvKYPSZqcbs",
        "outputId": "c9523997-2d27-4f5e-b643-16d6794bf5c1"
      },
      "execution_count": 11,
      "outputs": [
        {
          "output_type": "execute_result",
          "data": {
            "text/plain": [
              "as  bs\n",
              "A   1     10\n",
              "    2     20\n",
              "B   1     30\n",
              "    2     40\n",
              "dtype: int64"
            ]
          },
          "metadata": {},
          "execution_count": 11
        }
      ]
    },
    {
      "cell_type": "code",
      "source": [
        "s.index\n",
        "s"
      ],
      "metadata": {
        "colab": {
          "base_uri": "https://localhost:8080/"
        },
        "id": "0m9xS5v9qce_",
        "outputId": "bd2d60d4-eef7-4048-be25-0226e2dfa534"
      },
      "execution_count": 7,
      "outputs": [
        {
          "output_type": "execute_result",
          "data": {
            "text/plain": [
              "First  Second\n",
              "A      1         10\n",
              "       2         20\n",
              "B      1         30\n",
              "       2         40\n",
              "dtype: int64"
            ]
          },
          "metadata": {},
          "execution_count": 7
        }
      ]
    },
    {
      "cell_type": "code",
      "source": [
        "s.index"
      ],
      "metadata": {
        "colab": {
          "base_uri": "https://localhost:8080/"
        },
        "id": "O1bJzXVvszT5",
        "outputId": "dd94426f-146d-4a29-902c-436ed2d4c464"
      },
      "execution_count": 12,
      "outputs": [
        {
          "output_type": "execute_result",
          "data": {
            "text/plain": [
              "MultiIndex([('A', 1),\n",
              "            ('A', 2),\n",
              "            ('B', 1),\n",
              "            ('B', 2)],\n",
              "           name='ppp')"
            ]
          },
          "metadata": {},
          "execution_count": 12
        }
      ]
    },
    {
      "cell_type": "code",
      "source": [
        "# from_arrays\n",
        "data=[15,17,19,21]\n",
        "array=[['X','X','Y','Y'],[1,2,1,2]]\n",
        "index=pd.MultiIndex.from_arrays(array, names=['N1','N2'])\n",
        "ser=pd.Series(data, index=index)\n",
        "ser.sort_index(inplace=True)"
      ],
      "metadata": {
        "id": "DAMu98Z6szXC"
      },
      "execution_count": 16,
      "outputs": []
    },
    {
      "cell_type": "code",
      "source": [
        "ser"
      ],
      "metadata": {
        "colab": {
          "base_uri": "https://localhost:8080/"
        },
        "id": "WdaGDj--s2J4",
        "outputId": "f5c3d2b7-0bdb-44c2-d14f-ef2cb32557ef"
      },
      "execution_count": 17,
      "outputs": [
        {
          "output_type": "execute_result",
          "data": {
            "text/plain": [
              "N1  N2\n",
              "X   1     15\n",
              "    2     17\n",
              "Y   1     19\n",
              "    2     21\n",
              "dtype: int64"
            ]
          },
          "metadata": {},
          "execution_count": 17
        }
      ]
    },
    {
      "cell_type": "code",
      "source": [
        "# from tuples\n",
        "data=[15,17,19,21]\n",
        "my_tuple=[('Q',1),('W',2),('Q',2),('W',1)]\n",
        "index=pd.MultiIndex.from_tuples(my_tuple, names=['First','Second'])\n",
        "ser2=pd.Series(data, index=index)\n",
        "ser2.sort_index(inplace=True)"
      ],
      "metadata": {
        "id": "zi5UIVZhs2Ni"
      },
      "execution_count": 20,
      "outputs": []
    },
    {
      "cell_type": "code",
      "source": [
        "ser2"
      ],
      "metadata": {
        "colab": {
          "base_uri": "https://localhost:8080/"
        },
        "id": "DbDSaM4Ms2Qy",
        "outputId": "5997ed4f-409a-436e-b20b-bf4132bcda01"
      },
      "execution_count": 22,
      "outputs": [
        {
          "output_type": "execute_result",
          "data": {
            "text/plain": [
              "First  Second\n",
              "Q      1         15\n",
              "       2         19\n",
              "W      1         21\n",
              "       2         17\n",
              "dtype: int64"
            ]
          },
          "metadata": {},
          "execution_count": 22
        }
      ]
    },
    {
      "cell_type": "code",
      "source": [
        "# from product\n",
        "prod=[['X','Y','Z'],[1,2]]\n",
        "data=[23,45,67,89,12,38]\n",
        "ind=pd.MultiIndex.from_product(prod,names=['Letter','Number'])\n",
        "ser=pd.Series(data, index=ind)\n",
        "ser"
      ],
      "metadata": {
        "colab": {
          "base_uri": "https://localhost:8080/"
        },
        "id": "yteIEs5Ns2Vz",
        "outputId": "deba5cfa-b70b-4183-e4a9-e1bd325ba9f9"
      },
      "execution_count": 23,
      "outputs": [
        {
          "output_type": "execute_result",
          "data": {
            "text/plain": [
              "Letter  Number\n",
              "X       1         23\n",
              "        2         45\n",
              "Y       1         67\n",
              "        2         89\n",
              "Z       1         12\n",
              "        2         38\n",
              "dtype: int64"
            ]
          },
          "metadata": {},
          "execution_count": 23
        }
      ]
    },
    {
      "cell_type": "code",
      "source": [
        "df = pd.DataFrame({'First': ['A', 'A', 'B', 'B'],\n",
        "                   'Second': [1, 2, 1, 2]})\n",
        "multi_index = pd.MultiIndex.from_frame(df)\n",
        "ser=pd.Series([12,22,34,45], index=multi_index )\n",
        "ser"
      ],
      "metadata": {
        "colab": {
          "base_uri": "https://localhost:8080/"
        },
        "id": "VpJ3WJxDs2ab",
        "outputId": "d8fbd5c0-3571-4866-9da4-dbefd7c687a5"
      },
      "execution_count": 27,
      "outputs": [
        {
          "output_type": "execute_result",
          "data": {
            "text/plain": [
              "First  Second\n",
              "A      1         12\n",
              "       2         22\n",
              "B      1         34\n",
              "       2         45\n",
              "dtype: int64"
            ]
          },
          "metadata": {},
          "execution_count": 27
        }
      ]
    },
    {
      "cell_type": "code",
      "source": [],
      "metadata": {
        "id": "ZViXCHQm2afF"
      },
      "execution_count": null,
      "outputs": []
    },
    {
      "cell_type": "code",
      "source": [],
      "metadata": {
        "id": "s2u25yOA2aiv"
      },
      "execution_count": null,
      "outputs": []
    },
    {
      "cell_type": "code",
      "source": [],
      "metadata": {
        "id": "zaUhGfzZ2XZt"
      },
      "execution_count": null,
      "outputs": []
    }
  ]
}